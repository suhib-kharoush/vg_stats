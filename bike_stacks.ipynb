{
 "cells": [
  {
   "cell_type": "code",
   "execution_count": 69,
   "id": "bfe5cf8c-4e49-4cc5-9617-ae63cf716ec4",
   "metadata": {},
   "outputs": [],
   "source": [
    "import pandas as pd"
   ]
  },
  {
   "cell_type": "code",
   "execution_count": 70,
   "id": "2a4bbe4a-c1de-48c8-bc56-d4758d8a0f78",
   "metadata": {},
   "outputs": [
    {
     "name": "stderr",
     "output_type": "stream",
     "text": [
      "b'Skipping line 50794: expected 12 fields, saw 20\\n'\n"
     ]
    }
   ],
   "source": [
    "df_trip = pd.read_csv('./trip.csv', error_bad_lines=False)\n",
    "df_weather = pd.read_csv('./weather.csv')\n",
    "df_station = pd.read_csv('./station.csv')"
   ]
  },
  {
   "cell_type": "markdown",
   "id": "8ad76743-5b05-4777-8ba6-493804edec51",
   "metadata": {},
   "source": [
    "### 1.What is the average trip duration for a borrowed bicycle?"
   ]
  },
  {
   "cell_type": "code",
   "execution_count": 71,
   "id": "d2d3ccbe-e0f0-4eb5-ac9c-e3f3e42529ca",
   "metadata": {},
   "outputs": [
    {
     "data": {
      "text/plain": [
       "1178.2956753399776"
      ]
     },
     "execution_count": 71,
     "metadata": {},
     "output_type": "execute_result"
    }
   ],
   "source": [
    "trip_duration = df_trip['tripduration'].mean()\n",
    "trip_duration"
   ]
  },
  {
   "cell_type": "markdown",
   "id": "2a1040a1-fa01-4a06-814a-962b4499beea",
   "metadata": {},
   "source": [
    "### 2.What’s the most common age of a bicycle-sharer?"
   ]
  },
  {
   "cell_type": "code",
   "execution_count": 87,
   "id": "2c49d37c-f57c-4b6a-81e0-a09437f23e13",
   "metadata": {},
   "outputs": [
    {
     "data": {
      "text/plain": [
       "34"
      ]
     },
     "execution_count": 87,
     "metadata": {},
     "output_type": "execute_result"
    }
   ],
   "source": [
    "most_common_age = df_trip['birthyear'].mode()\n",
    "age = 2021 - int(most_common_age)\n",
    "age"
   ]
  },
  {
   "cell_type": "markdown",
   "id": "1168f716-42b7-46c1-914b-65661cbe6c55",
   "metadata": {},
   "source": [
    "### 3.Given all the weather data here, find the average precipitation per month, and the median precipitation.\n"
   ]
  },
  {
   "cell_type": "code",
   "execution_count": 73,
   "id": "c1a1394d-cc8a-496e-815e-3720de6b7267",
   "metadata": {},
   "outputs": [
    {
     "data": {
      "text/html": [
       "<div>\n",
       "<style scoped>\n",
       "    .dataframe tbody tr th:only-of-type {\n",
       "        vertical-align: middle;\n",
       "    }\n",
       "\n",
       "    .dataframe tbody tr th {\n",
       "        vertical-align: top;\n",
       "    }\n",
       "\n",
       "    .dataframe thead th {\n",
       "        text-align: right;\n",
       "    }\n",
       "</style>\n",
       "<table border=\"1\" class=\"dataframe\">\n",
       "  <thead>\n",
       "    <tr style=\"text-align: right;\">\n",
       "      <th></th>\n",
       "      <th>Date</th>\n",
       "      <th>Max_Temperature_F</th>\n",
       "      <th>Mean_Temperature_F</th>\n",
       "      <th>Min_TemperatureF</th>\n",
       "      <th>Max_Dew_Point_F</th>\n",
       "      <th>MeanDew_Point_F</th>\n",
       "      <th>Min_Dewpoint_F</th>\n",
       "      <th>Max_Humidity</th>\n",
       "      <th>Mean_Humidity</th>\n",
       "      <th>Min_Humidity</th>\n",
       "      <th>...</th>\n",
       "      <th>Mean_Sea_Level_Pressure_In</th>\n",
       "      <th>Min_Sea_Level_Pressure_In</th>\n",
       "      <th>Max_Visibility_Miles</th>\n",
       "      <th>Mean_Visibility_Miles</th>\n",
       "      <th>Min_Visibility_Miles</th>\n",
       "      <th>Max_Wind_Speed_MPH</th>\n",
       "      <th>Mean_Wind_Speed_MPH</th>\n",
       "      <th>Max_Gust_Speed_MPH</th>\n",
       "      <th>Precipitation_In</th>\n",
       "      <th>Events</th>\n",
       "    </tr>\n",
       "  </thead>\n",
       "  <tbody>\n",
       "    <tr>\n",
       "      <th>0</th>\n",
       "      <td>2014-10-13</td>\n",
       "      <td>71</td>\n",
       "      <td>62.0</td>\n",
       "      <td>54</td>\n",
       "      <td>55</td>\n",
       "      <td>51</td>\n",
       "      <td>46</td>\n",
       "      <td>87</td>\n",
       "      <td>68</td>\n",
       "      <td>46</td>\n",
       "      <td>...</td>\n",
       "      <td>29.79</td>\n",
       "      <td>29.65</td>\n",
       "      <td>10</td>\n",
       "      <td>10</td>\n",
       "      <td>4</td>\n",
       "      <td>13</td>\n",
       "      <td>4</td>\n",
       "      <td>21</td>\n",
       "      <td>0.00</td>\n",
       "      <td>Rain</td>\n",
       "    </tr>\n",
       "    <tr>\n",
       "      <th>1</th>\n",
       "      <td>2014-10-14</td>\n",
       "      <td>63</td>\n",
       "      <td>59.0</td>\n",
       "      <td>55</td>\n",
       "      <td>52</td>\n",
       "      <td>51</td>\n",
       "      <td>50</td>\n",
       "      <td>88</td>\n",
       "      <td>78</td>\n",
       "      <td>63</td>\n",
       "      <td>...</td>\n",
       "      <td>29.75</td>\n",
       "      <td>29.54</td>\n",
       "      <td>10</td>\n",
       "      <td>9</td>\n",
       "      <td>3</td>\n",
       "      <td>10</td>\n",
       "      <td>5</td>\n",
       "      <td>17</td>\n",
       "      <td>0.11</td>\n",
       "      <td>Rain</td>\n",
       "    </tr>\n",
       "    <tr>\n",
       "      <th>2</th>\n",
       "      <td>2014-10-15</td>\n",
       "      <td>62</td>\n",
       "      <td>58.0</td>\n",
       "      <td>54</td>\n",
       "      <td>53</td>\n",
       "      <td>50</td>\n",
       "      <td>46</td>\n",
       "      <td>87</td>\n",
       "      <td>77</td>\n",
       "      <td>67</td>\n",
       "      <td>...</td>\n",
       "      <td>29.71</td>\n",
       "      <td>29.51</td>\n",
       "      <td>10</td>\n",
       "      <td>9</td>\n",
       "      <td>3</td>\n",
       "      <td>18</td>\n",
       "      <td>7</td>\n",
       "      <td>25</td>\n",
       "      <td>0.45</td>\n",
       "      <td>Rain</td>\n",
       "    </tr>\n",
       "    <tr>\n",
       "      <th>3</th>\n",
       "      <td>2014-10-16</td>\n",
       "      <td>71</td>\n",
       "      <td>61.0</td>\n",
       "      <td>52</td>\n",
       "      <td>49</td>\n",
       "      <td>46</td>\n",
       "      <td>42</td>\n",
       "      <td>83</td>\n",
       "      <td>61</td>\n",
       "      <td>36</td>\n",
       "      <td>...</td>\n",
       "      <td>29.95</td>\n",
       "      <td>29.81</td>\n",
       "      <td>10</td>\n",
       "      <td>10</td>\n",
       "      <td>10</td>\n",
       "      <td>9</td>\n",
       "      <td>4</td>\n",
       "      <td>-</td>\n",
       "      <td>0.00</td>\n",
       "      <td>Rain</td>\n",
       "    </tr>\n",
       "    <tr>\n",
       "      <th>4</th>\n",
       "      <td>2014-10-17</td>\n",
       "      <td>64</td>\n",
       "      <td>60.0</td>\n",
       "      <td>57</td>\n",
       "      <td>55</td>\n",
       "      <td>51</td>\n",
       "      <td>41</td>\n",
       "      <td>87</td>\n",
       "      <td>72</td>\n",
       "      <td>46</td>\n",
       "      <td>...</td>\n",
       "      <td>29.78</td>\n",
       "      <td>29.73</td>\n",
       "      <td>10</td>\n",
       "      <td>10</td>\n",
       "      <td>6</td>\n",
       "      <td>8</td>\n",
       "      <td>3</td>\n",
       "      <td>-</td>\n",
       "      <td>0.14</td>\n",
       "      <td>Rain</td>\n",
       "    </tr>\n",
       "    <tr>\n",
       "      <th>...</th>\n",
       "      <td>...</td>\n",
       "      <td>...</td>\n",
       "      <td>...</td>\n",
       "      <td>...</td>\n",
       "      <td>...</td>\n",
       "      <td>...</td>\n",
       "      <td>...</td>\n",
       "      <td>...</td>\n",
       "      <td>...</td>\n",
       "      <td>...</td>\n",
       "      <td>...</td>\n",
       "      <td>...</td>\n",
       "      <td>...</td>\n",
       "      <td>...</td>\n",
       "      <td>...</td>\n",
       "      <td>...</td>\n",
       "      <td>...</td>\n",
       "      <td>...</td>\n",
       "      <td>...</td>\n",
       "      <td>...</td>\n",
       "      <td>...</td>\n",
       "    </tr>\n",
       "    <tr>\n",
       "      <th>684</th>\n",
       "      <td>2016-08-27</td>\n",
       "      <td>72</td>\n",
       "      <td>66.0</td>\n",
       "      <td>61</td>\n",
       "      <td>57</td>\n",
       "      <td>54</td>\n",
       "      <td>50</td>\n",
       "      <td>81</td>\n",
       "      <td>65</td>\n",
       "      <td>46</td>\n",
       "      <td>...</td>\n",
       "      <td>29.88</td>\n",
       "      <td>29.77</td>\n",
       "      <td>10</td>\n",
       "      <td>10</td>\n",
       "      <td>10</td>\n",
       "      <td>16</td>\n",
       "      <td>9</td>\n",
       "      <td>NaN</td>\n",
       "      <td>0.00</td>\n",
       "      <td>NaN</td>\n",
       "    </tr>\n",
       "    <tr>\n",
       "      <th>685</th>\n",
       "      <td>2016-08-28</td>\n",
       "      <td>75</td>\n",
       "      <td>68.0</td>\n",
       "      <td>59</td>\n",
       "      <td>54</td>\n",
       "      <td>52</td>\n",
       "      <td>50</td>\n",
       "      <td>80</td>\n",
       "      <td>65</td>\n",
       "      <td>44</td>\n",
       "      <td>...</td>\n",
       "      <td>30.06</td>\n",
       "      <td>30.01</td>\n",
       "      <td>10</td>\n",
       "      <td>10</td>\n",
       "      <td>10</td>\n",
       "      <td>12</td>\n",
       "      <td>9</td>\n",
       "      <td>NaN</td>\n",
       "      <td>0.00</td>\n",
       "      <td>NaN</td>\n",
       "    </tr>\n",
       "    <tr>\n",
       "      <th>686</th>\n",
       "      <td>2016-08-29</td>\n",
       "      <td>81</td>\n",
       "      <td>68.0</td>\n",
       "      <td>55</td>\n",
       "      <td>55</td>\n",
       "      <td>53</td>\n",
       "      <td>50</td>\n",
       "      <td>89</td>\n",
       "      <td>65</td>\n",
       "      <td>39</td>\n",
       "      <td>...</td>\n",
       "      <td>30.02</td>\n",
       "      <td>29.95</td>\n",
       "      <td>10</td>\n",
       "      <td>10</td>\n",
       "      <td>6</td>\n",
       "      <td>9</td>\n",
       "      <td>4</td>\n",
       "      <td>NaN</td>\n",
       "      <td>0.00</td>\n",
       "      <td>NaN</td>\n",
       "    </tr>\n",
       "    <tr>\n",
       "      <th>687</th>\n",
       "      <td>2016-08-30</td>\n",
       "      <td>70</td>\n",
       "      <td>64.0</td>\n",
       "      <td>57</td>\n",
       "      <td>55</td>\n",
       "      <td>53</td>\n",
       "      <td>52</td>\n",
       "      <td>83</td>\n",
       "      <td>69</td>\n",
       "      <td>53</td>\n",
       "      <td>...</td>\n",
       "      <td>30.01</td>\n",
       "      <td>29.97</td>\n",
       "      <td>10</td>\n",
       "      <td>10</td>\n",
       "      <td>10</td>\n",
       "      <td>14</td>\n",
       "      <td>9</td>\n",
       "      <td>18</td>\n",
       "      <td>0.00</td>\n",
       "      <td>NaN</td>\n",
       "    </tr>\n",
       "    <tr>\n",
       "      <th>688</th>\n",
       "      <td>2016-08-31</td>\n",
       "      <td>71</td>\n",
       "      <td>65.0</td>\n",
       "      <td>59</td>\n",
       "      <td>61</td>\n",
       "      <td>56</td>\n",
       "      <td>52</td>\n",
       "      <td>90</td>\n",
       "      <td>77</td>\n",
       "      <td>63</td>\n",
       "      <td>...</td>\n",
       "      <td>29.97</td>\n",
       "      <td>29.96</td>\n",
       "      <td>10</td>\n",
       "      <td>10</td>\n",
       "      <td>8</td>\n",
       "      <td>14</td>\n",
       "      <td>8</td>\n",
       "      <td>NaN</td>\n",
       "      <td>0.00</td>\n",
       "      <td>Rain</td>\n",
       "    </tr>\n",
       "  </tbody>\n",
       "</table>\n",
       "<p>689 rows × 21 columns</p>\n",
       "</div>"
      ],
      "text/plain": [
       "          Date  Max_Temperature_F  Mean_Temperature_F  Min_TemperatureF  \\\n",
       "0   2014-10-13                 71                62.0                54   \n",
       "1   2014-10-14                 63                59.0                55   \n",
       "2   2014-10-15                 62                58.0                54   \n",
       "3   2014-10-16                 71                61.0                52   \n",
       "4   2014-10-17                 64                60.0                57   \n",
       "..         ...                ...                 ...               ...   \n",
       "684 2016-08-27                 72                66.0                61   \n",
       "685 2016-08-28                 75                68.0                59   \n",
       "686 2016-08-29                 81                68.0                55   \n",
       "687 2016-08-30                 70                64.0                57   \n",
       "688 2016-08-31                 71                65.0                59   \n",
       "\n",
       "     Max_Dew_Point_F  MeanDew_Point_F  Min_Dewpoint_F  Max_Humidity  \\\n",
       "0                 55               51              46            87   \n",
       "1                 52               51              50            88   \n",
       "2                 53               50              46            87   \n",
       "3                 49               46              42            83   \n",
       "4                 55               51              41            87   \n",
       "..               ...              ...             ...           ...   \n",
       "684               57               54              50            81   \n",
       "685               54               52              50            80   \n",
       "686               55               53              50            89   \n",
       "687               55               53              52            83   \n",
       "688               61               56              52            90   \n",
       "\n",
       "     Mean_Humidity  Min_Humidity  ...  Mean_Sea_Level_Pressure_In  \\\n",
       "0               68            46  ...                       29.79   \n",
       "1               78            63  ...                       29.75   \n",
       "2               77            67  ...                       29.71   \n",
       "3               61            36  ...                       29.95   \n",
       "4               72            46  ...                       29.78   \n",
       "..             ...           ...  ...                         ...   \n",
       "684             65            46  ...                       29.88   \n",
       "685             65            44  ...                       30.06   \n",
       "686             65            39  ...                       30.02   \n",
       "687             69            53  ...                       30.01   \n",
       "688             77            63  ...                       29.97   \n",
       "\n",
       "     Min_Sea_Level_Pressure_In  Max_Visibility_Miles  Mean_Visibility_Miles  \\\n",
       "0                        29.65                    10                     10   \n",
       "1                        29.54                    10                      9   \n",
       "2                        29.51                    10                      9   \n",
       "3                        29.81                    10                     10   \n",
       "4                        29.73                    10                     10   \n",
       "..                         ...                   ...                    ...   \n",
       "684                      29.77                    10                     10   \n",
       "685                      30.01                    10                     10   \n",
       "686                      29.95                    10                     10   \n",
       "687                      29.97                    10                     10   \n",
       "688                      29.96                    10                     10   \n",
       "\n",
       "     Min_Visibility_Miles  Max_Wind_Speed_MPH  Mean_Wind_Speed_MPH  \\\n",
       "0                       4                  13                    4   \n",
       "1                       3                  10                    5   \n",
       "2                       3                  18                    7   \n",
       "3                      10                   9                    4   \n",
       "4                       6                   8                    3   \n",
       "..                    ...                 ...                  ...   \n",
       "684                    10                  16                    9   \n",
       "685                    10                  12                    9   \n",
       "686                     6                   9                    4   \n",
       "687                    10                  14                    9   \n",
       "688                     8                  14                    8   \n",
       "\n",
       "     Max_Gust_Speed_MPH Precipitation_In  Events  \n",
       "0                    21             0.00    Rain  \n",
       "1                    17             0.11    Rain  \n",
       "2                    25             0.45    Rain  \n",
       "3                     -             0.00    Rain  \n",
       "4                     -             0.14    Rain  \n",
       "..                  ...              ...     ...  \n",
       "684                 NaN             0.00     NaN  \n",
       "685                 NaN             0.00     NaN  \n",
       "686                 NaN             0.00     NaN  \n",
       "687                  18             0.00     NaN  \n",
       "688                 NaN             0.00    Rain  \n",
       "\n",
       "[689 rows x 21 columns]"
      ]
     },
     "execution_count": 73,
     "metadata": {},
     "output_type": "execute_result"
    }
   ],
   "source": [
    "weather_data = pd.read_csv('./weather.csv', parse_dates=['Date'])\n",
    "weather_data\n"
   ]
  },
  {
   "cell_type": "code",
   "execution_count": 74,
   "id": "961371b4-f9f3-4fc5-b613-11ebd4ad684c",
   "metadata": {},
   "outputs": [
    {
     "name": "stdout",
     "output_type": "stream",
     "text": [
      "<class 'pandas.core.frame.DataFrame'>\n",
      "RangeIndex: 689 entries, 0 to 688\n",
      "Data columns (total 21 columns):\n",
      " #   Column                      Non-Null Count  Dtype         \n",
      "---  ------                      --------------  -----         \n",
      " 0   Date                        689 non-null    datetime64[ns]\n",
      " 1   Max_Temperature_F           689 non-null    int64         \n",
      " 2   Mean_Temperature_F          688 non-null    float64       \n",
      " 3   Min_TemperatureF            689 non-null    int64         \n",
      " 4   Max_Dew_Point_F             689 non-null    int64         \n",
      " 5   MeanDew_Point_F             689 non-null    int64         \n",
      " 6   Min_Dewpoint_F              689 non-null    int64         \n",
      " 7   Max_Humidity                689 non-null    int64         \n",
      " 8   Mean_Humidity               689 non-null    int64         \n",
      " 9   Min_Humidity                689 non-null    int64         \n",
      " 10  Max_Sea_Level_Pressure_In   689 non-null    float64       \n",
      " 11  Mean_Sea_Level_Pressure_In  689 non-null    float64       \n",
      " 12  Min_Sea_Level_Pressure_In   689 non-null    float64       \n",
      " 13  Max_Visibility_Miles        689 non-null    int64         \n",
      " 14  Mean_Visibility_Miles       689 non-null    int64         \n",
      " 15  Min_Visibility_Miles        689 non-null    int64         \n",
      " 16  Max_Wind_Speed_MPH          689 non-null    int64         \n",
      " 17  Mean_Wind_Speed_MPH         689 non-null    int64         \n",
      " 18  Max_Gust_Speed_MPH          504 non-null    object        \n",
      " 19  Precipitation_In            689 non-null    float64       \n",
      " 20  Events                      328 non-null    object        \n",
      "dtypes: datetime64[ns](1), float64(5), int64(13), object(2)\n",
      "memory usage: 113.2+ KB\n"
     ]
    }
   ],
   "source": [
    "weather_data.info()"
   ]
  },
  {
   "cell_type": "code",
   "execution_count": 75,
   "id": "f74e4a54-d5bb-4006-8c89-08d18cc7dd18",
   "metadata": {},
   "outputs": [
    {
     "data": {
      "text/plain": [
       "0      10\n",
       "1      10\n",
       "2      10\n",
       "3      10\n",
       "4      10\n",
       "       ..\n",
       "684     8\n",
       "685     8\n",
       "686     8\n",
       "687     8\n",
       "688     8\n",
       "Name: month, Length: 689, dtype: int64"
      ]
     },
     "execution_count": 75,
     "metadata": {},
     "output_type": "execute_result"
    }
   ],
   "source": [
    "date = weather_data['Date']\n",
    "weather_data['month'] = pd.DatetimeIndex(date).month\n",
    "weather_data['month']"
   ]
  },
  {
   "cell_type": "code",
   "execution_count": 76,
   "id": "5076e3ad-126d-41e4-bc81-eecc25395a56",
   "metadata": {},
   "outputs": [
    {
     "data": {
      "text/plain": [
       "month\n",
       "1     0.143548\n",
       "2     0.168421\n",
       "3     0.156935\n",
       "4     0.051333\n",
       "5     0.012419\n",
       "6     0.030500\n",
       "7     0.012097\n",
       "8     0.018226\n",
       "9     0.041000\n",
       "10    0.189000\n",
       "11    0.187833\n",
       "12    0.236290\n",
       "Name: Precipitation_In, dtype: float64"
      ]
     },
     "execution_count": 76,
     "metadata": {},
     "output_type": "execute_result"
    }
   ],
   "source": [
    "weather = weather_data.groupby('month')['Precipitation_In']\n",
    "avg_weather = weather.mean()\n",
    "avg_weather"
   ]
  },
  {
   "cell_type": "markdown",
   "id": "69308a0c-c7ff-4f2c-a5ce-14434c42a63b",
   "metadata": {},
   "source": [
    "### 4.What’s the average number of bikes at a given bike station?\n",
    "\n"
   ]
  },
  {
   "cell_type": "code",
   "execution_count": 77,
   "id": "347cb2bb-301d-4ed9-972e-aa1a5fe9fbd5",
   "metadata": {},
   "outputs": [
    {
     "data": {
      "text/plain": [
       "17.586206896551722"
      ]
     },
     "execution_count": 77,
     "metadata": {},
     "output_type": "execute_result"
    }
   ],
   "source": [
    "df_station = pd.read_csv('./station.csv')\n",
    "avg_bikes = df_station['install_dockcount'].mean()\n",
    "avg_bikes"
   ]
  },
  {
   "cell_type": "markdown",
   "id": "92f1fe34-1d27-4f59-97b7-e1bda286a674",
   "metadata": {},
   "source": [
    "### 5.When a bike station is modified, is it more likely that it’ll lose bikes or gain bikes? How do you know?\n"
   ]
  },
  {
   "cell_type": "code",
   "execution_count": 93,
   "id": "1b4497fb-6ccd-4c12-85d1-e78262df893e",
   "metadata": {},
   "outputs": [
    {
     "name": "stdout",
     "output_type": "stream",
     "text": [
      "The station will lose the bikes when modified\n"
     ]
    },
    {
     "data": {
      "text/html": [
       "<div>\n",
       "<style scoped>\n",
       "    .dataframe tbody tr th:only-of-type {\n",
       "        vertical-align: middle;\n",
       "    }\n",
       "\n",
       "    .dataframe tbody tr th {\n",
       "        vertical-align: top;\n",
       "    }\n",
       "\n",
       "    .dataframe thead th {\n",
       "        text-align: right;\n",
       "    }\n",
       "</style>\n",
       "<table border=\"1\" class=\"dataframe\">\n",
       "  <thead>\n",
       "    <tr style=\"text-align: right;\">\n",
       "      <th></th>\n",
       "      <th>lat</th>\n",
       "      <th>long</th>\n",
       "      <th>install_dockcount</th>\n",
       "      <th>current_dockcount</th>\n",
       "    </tr>\n",
       "    <tr>\n",
       "      <th>modification_date</th>\n",
       "      <th></th>\n",
       "      <th></th>\n",
       "      <th></th>\n",
       "      <th></th>\n",
       "    </tr>\n",
       "  </thead>\n",
       "  <tbody>\n",
       "    <tr>\n",
       "      <th>10/29/2015</th>\n",
       "      <td>47.660268</td>\n",
       "      <td>-122.304826</td>\n",
       "      <td>16.000000</td>\n",
       "      <td>0.0</td>\n",
       "    </tr>\n",
       "    <tr>\n",
       "      <th>11/2/2015</th>\n",
       "      <td>47.618285</td>\n",
       "      <td>-122.342205</td>\n",
       "      <td>20.000000</td>\n",
       "      <td>0.0</td>\n",
       "    </tr>\n",
       "    <tr>\n",
       "      <th>11/9/2015</th>\n",
       "      <td>47.605950</td>\n",
       "      <td>-122.335768</td>\n",
       "      <td>20.000000</td>\n",
       "      <td>18.0</td>\n",
       "    </tr>\n",
       "    <tr>\n",
       "      <th>2/20/2015</th>\n",
       "      <td>47.655918</td>\n",
       "      <td>-122.307329</td>\n",
       "      <td>15.500000</td>\n",
       "      <td>14.5</td>\n",
       "    </tr>\n",
       "    <tr>\n",
       "      <th>2/23/2015</th>\n",
       "      <td>47.626041</td>\n",
       "      <td>-122.335831</td>\n",
       "      <td>18.000000</td>\n",
       "      <td>16.0</td>\n",
       "    </tr>\n",
       "    <tr>\n",
       "      <th>2/24/2015</th>\n",
       "      <td>47.619136</td>\n",
       "      <td>-122.323267</td>\n",
       "      <td>21.333333</td>\n",
       "      <td>22.0</td>\n",
       "    </tr>\n",
       "    <tr>\n",
       "      <th>3/13/2015</th>\n",
       "      <td>47.613628</td>\n",
       "      <td>-122.337341</td>\n",
       "      <td>12.000000</td>\n",
       "      <td>20.0</td>\n",
       "    </tr>\n",
       "    <tr>\n",
       "      <th>3/18/2016</th>\n",
       "      <td>47.607281</td>\n",
       "      <td>-122.324783</td>\n",
       "      <td>16.000000</td>\n",
       "      <td>0.0</td>\n",
       "    </tr>\n",
       "    <tr>\n",
       "      <th>3/24/2015</th>\n",
       "      <td>47.663509</td>\n",
       "      <td>-122.284119</td>\n",
       "      <td>30.000000</td>\n",
       "      <td>24.0</td>\n",
       "    </tr>\n",
       "    <tr>\n",
       "      <th>3/27/2015</th>\n",
       "      <td>47.627643</td>\n",
       "      <td>-122.332576</td>\n",
       "      <td>12.000000</td>\n",
       "      <td>16.0</td>\n",
       "    </tr>\n",
       "    <tr>\n",
       "      <th>3/4/2015</th>\n",
       "      <td>47.622277</td>\n",
       "      <td>-122.355230</td>\n",
       "      <td>12.000000</td>\n",
       "      <td>16.0</td>\n",
       "    </tr>\n",
       "    <tr>\n",
       "      <th>8/9/2016</th>\n",
       "      <td>47.602103</td>\n",
       "      <td>-122.316923</td>\n",
       "      <td>16.000000</td>\n",
       "      <td>0.0</td>\n",
       "    </tr>\n",
       "  </tbody>\n",
       "</table>\n",
       "</div>"
      ],
      "text/plain": [
       "                         lat        long  install_dockcount  current_dockcount\n",
       "modification_date                                                             \n",
       "10/29/2015         47.660268 -122.304826          16.000000                0.0\n",
       "11/2/2015          47.618285 -122.342205          20.000000                0.0\n",
       "11/9/2015          47.605950 -122.335768          20.000000               18.0\n",
       "2/20/2015          47.655918 -122.307329          15.500000               14.5\n",
       "2/23/2015          47.626041 -122.335831          18.000000               16.0\n",
       "2/24/2015          47.619136 -122.323267          21.333333               22.0\n",
       "3/13/2015          47.613628 -122.337341          12.000000               20.0\n",
       "3/18/2016          47.607281 -122.324783          16.000000                0.0\n",
       "3/24/2015          47.663509 -122.284119          30.000000               24.0\n",
       "3/27/2015          47.627643 -122.332576          12.000000               16.0\n",
       "3/4/2015           47.622277 -122.355230          12.000000               16.0\n",
       "8/9/2016           47.602103 -122.316923          16.000000                0.0"
      ]
     },
     "execution_count": 93,
     "metadata": {},
     "output_type": "execute_result"
    }
   ],
   "source": [
    "print('The station will lose the bikes when modified') \n",
    "modify_bike_station = df_station.groupby('modification_date').mean('current_dockcount')\n",
    "modify_bike_station"
   ]
  },
  {
   "cell_type": "markdown",
   "id": "3eef192b-55fe-4648-8b37-8d1aacbf520b",
   "metadata": {},
   "source": [
    "### 6.Come up with 3 more questions that can be answered with this data set.\n"
   ]
  },
  {
   "cell_type": "markdown",
   "id": "e34f12ed-f2c0-4a81-bb22-453683de82e5",
   "metadata": {},
   "source": [
    "- - ####  Display a list of station names"
   ]
  },
  {
   "cell_type": "code",
   "execution_count": 98,
   "id": "f5325457-e4df-4f68-a5a6-ffb2bac09760",
   "metadata": {},
   "outputs": [
    {
     "data": {
      "text/plain": [
       "0                                    3rd Ave & Broad St\n",
       "1                                     2nd Ave & Vine St\n",
       "2                                6th Ave & Blanchard St\n",
       "3                                2nd Ave & Blanchard St\n",
       "4                                    7th Ave & Union St\n",
       "5                                    Union St & 4th Ave\n",
       "6                                   1st Ave & Marion St\n",
       "7                                   2nd Ave & Spring St\n",
       "8                        City Hall / 4th Ave & James St\n",
       "9                                     2nd Ave & Pine St\n",
       "10                              12th Ave & E Yesler Way\n",
       "11                             Summit Ave & E Denny Way\n",
       "12                       E Harrison St & Broadway Ave E\n",
       "13                       Summit Ave E & E Republican St\n",
       "14                             15th Ave E & E Thomas St\n",
       "15                               12th Ave & E Denny Way\n",
       "16                                 E Pine St & 16th Ave\n",
       "17               Cal Anderson Park / 11th Ave & Pine St\n",
       "18                              Harvard Ave & E Pine St\n",
       "19                             Bellevue Ave & E Pine St\n",
       "20                               12th Ave & E Mercer St\n",
       "21                                9th Ave N & Mercer St\n",
       "22    Children's Hospital / Sandpoint Way NE & 40th ...\n",
       "23    Fred Hutchinson Cancer Research Center / Fairv...\n",
       "24                         E Blaine St & Fairview Ave E\n",
       "25                        Eastlake Ave E & E Allison St\n",
       "26            Frye Art Museum / Terry Ave & Columbia St\n",
       "27        Seattle University / E Columbia St & 12th Ave\n",
       "28                                6th Ave S & S King St\n",
       "29    Occidental Park / Occidental Ave S & S Washing...\n",
       "30    King Street Station Plaza / 2nd Ave Extension ...\n",
       "31                           REI / Yale Ave N & John St\n",
       "32                              Dexter Ave N & Aloha St\n",
       "33                       Republican St & Westlake Ave N\n",
       "34                        PATH / 9th Ave & Westlake Ave\n",
       "35                               Westlake Ave & 6th Ave\n",
       "36                                    Pine St & 9th Ave\n",
       "37            Lake Union Park / Valley St & Boren Ave N\n",
       "38                               Dexter Ave & Denny Way\n",
       "39                  Key Arena / 1st Ave N & Harrison St\n",
       "40                               Terry Ave & Stewart St\n",
       "41                                Mercer St & 9th Ave N\n",
       "42    Burke-Gilman Trail / NE Blakeley St & 24th Ave NE\n",
       "43                       NE 42nd St & University Way NE\n",
       "44                            12th Ave & NE Campus Pkwy\n",
       "45                             NE 47th St & 12th Ave NE\n",
       "46                         UW McCarty Hall / Whitman Ct\n",
       "47    Burke Museum / E Stevens Way NE & Memorial Way NE\n",
       "48                             15th Ave NE & NE 40th St\n",
       "49    UW Engineering Library / E Stevens Way NE & Je...\n",
       "50                    UW Intramural Activities Building\n",
       "51    UW Magnuson Health Sciences Center Rotunda / C...\n",
       "52                      Pier 69 / Alaskan Way & Clay St\n",
       "53    Seattle Aquarium / Alaskan Way S & Elliott Bay...\n",
       "54                             Broadway and E Denny Way\n",
       "55                                Thomas St & 5th Ave N\n",
       "56                      NE Pacific St/UW Medical Center\n",
       "57                      Pier 66 / Alaskan Way & Bell St\n",
       "Name: name, dtype: object"
      ]
     },
     "execution_count": 98,
     "metadata": {},
     "output_type": "execute_result"
    }
   ],
   "source": [
    "station_names = df_station['name']\n",
    "station_names"
   ]
  },
  {
   "cell_type": "markdown",
   "id": "81af07d9-ddf2-4b7e-9342-c4cd5b0062b3",
   "metadata": {},
   "source": [
    "- - #### Give me the minimum Temperature for each year."
   ]
  },
  {
   "cell_type": "code",
   "execution_count": 80,
   "id": "26045134-0c6d-44a7-a8ed-c022ca46c5fd",
   "metadata": {},
   "outputs": [
    {
     "data": {
      "text/plain": [
       "Year\n",
       "2014    26\n",
       "2015    26\n",
       "2016    23\n",
       "Name: Min_TemperatureF, dtype: int64"
      ]
     },
     "execution_count": 80,
     "metadata": {},
     "output_type": "execute_result"
    }
   ],
   "source": [
    "weather_data['Year'] = pd.DatetimeIndex(date).year\n",
    "weather_data.groupby('Year')['Min_TemperatureF'].min()\n",
    "min_temperature = weather_data.groupby('Year')['Min_TemperatureF'].min()\n",
    "min_temperature"
   ]
  },
  {
   "cell_type": "markdown",
   "id": "d345920f-de52-4aea-8e51-c65ac431d4dc",
   "metadata": {},
   "source": [
    "- - #### How many females bike riders?"
   ]
  },
  {
   "cell_type": "code",
   "execution_count": 81,
   "id": "7c506ef2-9b2f-4045-b528-a42bf475bf31",
   "metadata": {},
   "outputs": [
    {
     "data": {
      "text/plain": [
       "37562"
      ]
     },
     "execution_count": 81,
     "metadata": {},
     "output_type": "execute_result"
    }
   ],
   "source": [
    "females = df_trip[df_trip['gender'] == 'Female']['gender'].count()\n",
    "females\n"
   ]
  },
  {
   "cell_type": "code",
   "execution_count": 101,
   "id": "58d90e65-2cd0-4427-8dc0-8fdde9d0c8f5",
   "metadata": {},
   "outputs": [
    {
     "name": "stdout",
     "output_type": "stream",
     "text": [
      "Success!!! 😀\n"
     ]
    }
   ],
   "source": [
    "def test():\n",
    "\n",
    "    def assert_equal(actual,expected):\n",
    "        assert actual == expected, f\"Expected {expected} but got {actual}\"\n",
    "\n",
    "    assert_equal(trip_duration, 1178.2956753399776)\n",
    "    assert_equal(age, 34)\n",
    "    assert_equal(weather_data.iloc[0].Min_TemperatureF, 54)\n",
    "    assert_equal(avg_bikes, 17.586206896551722)\n",
    "    assert_equal(modify_bike_station.iloc[0].lat, 47.660268)\n",
    "    print(\"Success!!! \\U0001f600\")\n",
    "\n",
    "test()"
   ]
  },
  {
   "cell_type": "code",
   "execution_count": null,
   "id": "0525e9c9-a421-49cf-8291-2a7df0900183",
   "metadata": {},
   "outputs": [],
   "source": []
  },
  {
   "cell_type": "code",
   "execution_count": null,
   "id": "9bd0ab8a-4b06-40c6-a177-e90d69063c40",
   "metadata": {},
   "outputs": [],
   "source": []
  }
 ],
 "metadata": {
  "kernelspec": {
   "display_name": "Python 3",
   "language": "python",
   "name": "python3"
  },
  "language_info": {
   "codemirror_mode": {
    "name": "ipython",
    "version": 3
   },
   "file_extension": ".py",
   "mimetype": "text/x-python",
   "name": "python",
   "nbconvert_exporter": "python",
   "pygments_lexer": "ipython3",
   "version": "3.9.4"
  }
 },
 "nbformat": 4,
 "nbformat_minor": 5
}
