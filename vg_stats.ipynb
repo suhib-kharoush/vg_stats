{
 "cells": [
  {
   "cell_type": "markdown",
   "id": "8e4c3913-4d5c-4caf-84f5-597cc8ecfc21",
   "metadata": {},
   "source": [
    "# vg-stats\n",
    "## Date: 21/6/2021\n",
    "### Suhib kharoush"
   ]
  },
  {
   "cell_type": "code",
   "execution_count": 2,
   "id": "44050997-68dc-40ec-ae93-c166156d05d3",
   "metadata": {},
   "outputs": [],
   "source": [
    "import numpy as np\n",
    "import pandas as pd"
   ]
  },
  {
   "cell_type": "code",
   "execution_count": 6,
   "id": "2c39de7e-a442-4320-8619-7eb7a7d746d1",
   "metadata": {},
   "outputs": [
    {
     "data": {
      "text/html": [
       "<div>\n",
       "<style scoped>\n",
       "    .dataframe tbody tr th:only-of-type {\n",
       "        vertical-align: middle;\n",
       "    }\n",
       "\n",
       "    .dataframe tbody tr th {\n",
       "        vertical-align: top;\n",
       "    }\n",
       "\n",
       "    .dataframe thead th {\n",
       "        text-align: right;\n",
       "    }\n",
       "</style>\n",
       "<table border=\"1\" class=\"dataframe\">\n",
       "  <thead>\n",
       "    <tr style=\"text-align: right;\">\n",
       "      <th></th>\n",
       "      <th>Rank</th>\n",
       "      <th>Name</th>\n",
       "      <th>Platform</th>\n",
       "      <th>Year</th>\n",
       "      <th>Genre</th>\n",
       "      <th>Publisher</th>\n",
       "      <th>NA_Sales</th>\n",
       "      <th>EU_Sales</th>\n",
       "      <th>JP_Sales</th>\n",
       "      <th>Other_Sales</th>\n",
       "      <th>Global_Sales</th>\n",
       "    </tr>\n",
       "  </thead>\n",
       "  <tbody>\n",
       "    <tr>\n",
       "      <th>0</th>\n",
       "      <td>1</td>\n",
       "      <td>Wii Sports</td>\n",
       "      <td>Wii</td>\n",
       "      <td>2006.0</td>\n",
       "      <td>Sports</td>\n",
       "      <td>Nintendo</td>\n",
       "      <td>41.49</td>\n",
       "      <td>29.02</td>\n",
       "      <td>3.77</td>\n",
       "      <td>8.46</td>\n",
       "      <td>82.74</td>\n",
       "    </tr>\n",
       "    <tr>\n",
       "      <th>1</th>\n",
       "      <td>2</td>\n",
       "      <td>Super Mario Bros.</td>\n",
       "      <td>NES</td>\n",
       "      <td>1985.0</td>\n",
       "      <td>Platform</td>\n",
       "      <td>Nintendo</td>\n",
       "      <td>29.08</td>\n",
       "      <td>3.58</td>\n",
       "      <td>6.81</td>\n",
       "      <td>0.77</td>\n",
       "      <td>40.24</td>\n",
       "    </tr>\n",
       "    <tr>\n",
       "      <th>2</th>\n",
       "      <td>3</td>\n",
       "      <td>Mario Kart Wii</td>\n",
       "      <td>Wii</td>\n",
       "      <td>2008.0</td>\n",
       "      <td>Racing</td>\n",
       "      <td>Nintendo</td>\n",
       "      <td>15.85</td>\n",
       "      <td>12.88</td>\n",
       "      <td>3.79</td>\n",
       "      <td>3.31</td>\n",
       "      <td>35.82</td>\n",
       "    </tr>\n",
       "    <tr>\n",
       "      <th>3</th>\n",
       "      <td>4</td>\n",
       "      <td>Wii Sports Resort</td>\n",
       "      <td>Wii</td>\n",
       "      <td>2009.0</td>\n",
       "      <td>Sports</td>\n",
       "      <td>Nintendo</td>\n",
       "      <td>15.75</td>\n",
       "      <td>11.01</td>\n",
       "      <td>3.28</td>\n",
       "      <td>2.96</td>\n",
       "      <td>33.00</td>\n",
       "    </tr>\n",
       "    <tr>\n",
       "      <th>4</th>\n",
       "      <td>5</td>\n",
       "      <td>Pokemon Red/Pokemon Blue</td>\n",
       "      <td>GB</td>\n",
       "      <td>1996.0</td>\n",
       "      <td>Role-Playing</td>\n",
       "      <td>Nintendo</td>\n",
       "      <td>11.27</td>\n",
       "      <td>8.89</td>\n",
       "      <td>10.22</td>\n",
       "      <td>1.00</td>\n",
       "      <td>31.37</td>\n",
       "    </tr>\n",
       "    <tr>\n",
       "      <th>...</th>\n",
       "      <td>...</td>\n",
       "      <td>...</td>\n",
       "      <td>...</td>\n",
       "      <td>...</td>\n",
       "      <td>...</td>\n",
       "      <td>...</td>\n",
       "      <td>...</td>\n",
       "      <td>...</td>\n",
       "      <td>...</td>\n",
       "      <td>...</td>\n",
       "      <td>...</td>\n",
       "    </tr>\n",
       "    <tr>\n",
       "      <th>16593</th>\n",
       "      <td>16596</td>\n",
       "      <td>Woody Woodpecker in Crazy Castle 5</td>\n",
       "      <td>GBA</td>\n",
       "      <td>2002.0</td>\n",
       "      <td>Platform</td>\n",
       "      <td>Kemco</td>\n",
       "      <td>0.01</td>\n",
       "      <td>0.00</td>\n",
       "      <td>0.00</td>\n",
       "      <td>0.00</td>\n",
       "      <td>0.01</td>\n",
       "    </tr>\n",
       "    <tr>\n",
       "      <th>16594</th>\n",
       "      <td>16597</td>\n",
       "      <td>Men in Black II: Alien Escape</td>\n",
       "      <td>GC</td>\n",
       "      <td>2003.0</td>\n",
       "      <td>Shooter</td>\n",
       "      <td>Infogrames</td>\n",
       "      <td>0.01</td>\n",
       "      <td>0.00</td>\n",
       "      <td>0.00</td>\n",
       "      <td>0.00</td>\n",
       "      <td>0.01</td>\n",
       "    </tr>\n",
       "    <tr>\n",
       "      <th>16595</th>\n",
       "      <td>16598</td>\n",
       "      <td>SCORE International Baja 1000: The Official Game</td>\n",
       "      <td>PS2</td>\n",
       "      <td>2008.0</td>\n",
       "      <td>Racing</td>\n",
       "      <td>Activision</td>\n",
       "      <td>0.00</td>\n",
       "      <td>0.00</td>\n",
       "      <td>0.00</td>\n",
       "      <td>0.00</td>\n",
       "      <td>0.01</td>\n",
       "    </tr>\n",
       "    <tr>\n",
       "      <th>16596</th>\n",
       "      <td>16599</td>\n",
       "      <td>Know How 2</td>\n",
       "      <td>DS</td>\n",
       "      <td>2010.0</td>\n",
       "      <td>Puzzle</td>\n",
       "      <td>7G//AMES</td>\n",
       "      <td>0.00</td>\n",
       "      <td>0.01</td>\n",
       "      <td>0.00</td>\n",
       "      <td>0.00</td>\n",
       "      <td>0.01</td>\n",
       "    </tr>\n",
       "    <tr>\n",
       "      <th>16597</th>\n",
       "      <td>16600</td>\n",
       "      <td>Spirits &amp; Spells</td>\n",
       "      <td>GBA</td>\n",
       "      <td>2003.0</td>\n",
       "      <td>Platform</td>\n",
       "      <td>Wanadoo</td>\n",
       "      <td>0.01</td>\n",
       "      <td>0.00</td>\n",
       "      <td>0.00</td>\n",
       "      <td>0.00</td>\n",
       "      <td>0.01</td>\n",
       "    </tr>\n",
       "  </tbody>\n",
       "</table>\n",
       "<p>16598 rows × 11 columns</p>\n",
       "</div>"
      ],
      "text/plain": [
       "        Rank                                              Name Platform  \\\n",
       "0          1                                        Wii Sports      Wii   \n",
       "1          2                                 Super Mario Bros.      NES   \n",
       "2          3                                    Mario Kart Wii      Wii   \n",
       "3          4                                 Wii Sports Resort      Wii   \n",
       "4          5                          Pokemon Red/Pokemon Blue       GB   \n",
       "...      ...                                               ...      ...   \n",
       "16593  16596                Woody Woodpecker in Crazy Castle 5      GBA   \n",
       "16594  16597                     Men in Black II: Alien Escape       GC   \n",
       "16595  16598  SCORE International Baja 1000: The Official Game      PS2   \n",
       "16596  16599                                        Know How 2       DS   \n",
       "16597  16600                                  Spirits & Spells      GBA   \n",
       "\n",
       "         Year         Genre   Publisher  NA_Sales  EU_Sales  JP_Sales  \\\n",
       "0      2006.0        Sports    Nintendo     41.49     29.02      3.77   \n",
       "1      1985.0      Platform    Nintendo     29.08      3.58      6.81   \n",
       "2      2008.0        Racing    Nintendo     15.85     12.88      3.79   \n",
       "3      2009.0        Sports    Nintendo     15.75     11.01      3.28   \n",
       "4      1996.0  Role-Playing    Nintendo     11.27      8.89     10.22   \n",
       "...       ...           ...         ...       ...       ...       ...   \n",
       "16593  2002.0      Platform       Kemco      0.01      0.00      0.00   \n",
       "16594  2003.0       Shooter  Infogrames      0.01      0.00      0.00   \n",
       "16595  2008.0        Racing  Activision      0.00      0.00      0.00   \n",
       "16596  2010.0        Puzzle    7G//AMES      0.00      0.01      0.00   \n",
       "16597  2003.0      Platform     Wanadoo      0.01      0.00      0.00   \n",
       "\n",
       "       Other_Sales  Global_Sales  \n",
       "0             8.46         82.74  \n",
       "1             0.77         40.24  \n",
       "2             3.31         35.82  \n",
       "3             2.96         33.00  \n",
       "4             1.00         31.37  \n",
       "...            ...           ...  \n",
       "16593         0.00          0.01  \n",
       "16594         0.00          0.01  \n",
       "16595         0.00          0.01  \n",
       "16596         0.00          0.01  \n",
       "16597         0.00          0.01  \n",
       "\n",
       "[16598 rows x 11 columns]"
      ]
     },
     "execution_count": 6,
     "metadata": {},
     "output_type": "execute_result"
    }
   ],
   "source": [
    "df = pd.read_csv('./vgsales.csv')\n",
    "df"
   ]
  },
  {
   "cell_type": "markdown",
   "id": "0a5ba998-78c7-4fd5-b6ca-06977c518b34",
   "metadata": {},
   "source": [
    "### 1.Which company is the most common video game publisher?"
   ]
  },
  {
   "cell_type": "code",
   "execution_count": 7,
   "id": "8863ebf8-5575-4290-929f-e0c27d81b391",
   "metadata": {},
   "outputs": [
    {
     "data": {
      "text/plain": [
       "'Electronic Arts'"
      ]
     },
     "execution_count": 7,
     "metadata": {},
     "output_type": "execute_result"
    }
   ],
   "source": [
    "most_common_video_game = df['Publisher'].value_counts().idxmax()\n",
    "most_common_video_game"
   ]
  },
  {
   "cell_type": "markdown",
   "id": "2a2668e8-d620-46c8-9d54-9ea73a14c144",
   "metadata": {},
   "source": [
    "### 2.What’s the most common platform?"
   ]
  },
  {
   "cell_type": "code",
   "execution_count": 9,
   "id": "d190f7bc-abc9-4904-a707-8feab8ada378",
   "metadata": {},
   "outputs": [
    {
     "data": {
      "text/plain": [
       "'DS'"
      ]
     },
     "execution_count": 9,
     "metadata": {},
     "output_type": "execute_result"
    }
   ],
   "source": [
    "most_common_plat_form = df['Platform'].value_counts().idxmax()\n",
    "most_common_plat_form"
   ]
  },
  {
   "cell_type": "markdown",
   "id": "1f10d51a-f5db-4edb-8ed4-45840223d94a",
   "metadata": {},
   "source": [
    "### 3.What about the most common genre?"
   ]
  },
  {
   "cell_type": "code",
   "execution_count": 59,
   "id": "3fe21a5d-0a21-4e9d-aaef-510527211de6",
   "metadata": {},
   "outputs": [
    {
     "data": {
      "text/plain": [
       "'Action'"
      ]
     },
     "execution_count": 59,
     "metadata": {},
     "output_type": "execute_result"
    }
   ],
   "source": [
    "most_common_genre = df['Genre'].value_counts().idxmax()\n",
    "most_common_genre"
   ]
  },
  {
   "cell_type": "markdown",
   "id": "edb50f2d-757d-4b97-83f3-d7b7b32e6801",
   "metadata": {},
   "source": [
    "### 4.What are the top 20 highest grossing games?"
   ]
  },
  {
   "cell_type": "code",
   "execution_count": 24,
   "id": "cdf7053b-d78e-454a-8e79-d17d0bbd0707",
   "metadata": {},
   "outputs": [
    {
     "data": {
      "text/html": [
       "<div>\n",
       "<style scoped>\n",
       "    .dataframe tbody tr th:only-of-type {\n",
       "        vertical-align: middle;\n",
       "    }\n",
       "\n",
       "    .dataframe tbody tr th {\n",
       "        vertical-align: top;\n",
       "    }\n",
       "\n",
       "    .dataframe thead th {\n",
       "        text-align: right;\n",
       "    }\n",
       "</style>\n",
       "<table border=\"1\" class=\"dataframe\">\n",
       "  <thead>\n",
       "    <tr style=\"text-align: right;\">\n",
       "      <th></th>\n",
       "      <th>Rank</th>\n",
       "      <th>Name</th>\n",
       "      <th>Platform</th>\n",
       "      <th>Global_Sales</th>\n",
       "    </tr>\n",
       "  </thead>\n",
       "  <tbody>\n",
       "    <tr>\n",
       "      <th>0</th>\n",
       "      <td>1</td>\n",
       "      <td>Wii Sports</td>\n",
       "      <td>Wii</td>\n",
       "      <td>82.74</td>\n",
       "    </tr>\n",
       "    <tr>\n",
       "      <th>1</th>\n",
       "      <td>2</td>\n",
       "      <td>Super Mario Bros.</td>\n",
       "      <td>NES</td>\n",
       "      <td>40.24</td>\n",
       "    </tr>\n",
       "    <tr>\n",
       "      <th>2</th>\n",
       "      <td>3</td>\n",
       "      <td>Mario Kart Wii</td>\n",
       "      <td>Wii</td>\n",
       "      <td>35.82</td>\n",
       "    </tr>\n",
       "    <tr>\n",
       "      <th>3</th>\n",
       "      <td>4</td>\n",
       "      <td>Wii Sports Resort</td>\n",
       "      <td>Wii</td>\n",
       "      <td>33.00</td>\n",
       "    </tr>\n",
       "    <tr>\n",
       "      <th>4</th>\n",
       "      <td>5</td>\n",
       "      <td>Pokemon Red/Pokemon Blue</td>\n",
       "      <td>GB</td>\n",
       "      <td>31.37</td>\n",
       "    </tr>\n",
       "    <tr>\n",
       "      <th>5</th>\n",
       "      <td>6</td>\n",
       "      <td>Tetris</td>\n",
       "      <td>GB</td>\n",
       "      <td>30.26</td>\n",
       "    </tr>\n",
       "    <tr>\n",
       "      <th>6</th>\n",
       "      <td>7</td>\n",
       "      <td>New Super Mario Bros.</td>\n",
       "      <td>DS</td>\n",
       "      <td>30.01</td>\n",
       "    </tr>\n",
       "    <tr>\n",
       "      <th>7</th>\n",
       "      <td>8</td>\n",
       "      <td>Wii Play</td>\n",
       "      <td>Wii</td>\n",
       "      <td>29.02</td>\n",
       "    </tr>\n",
       "    <tr>\n",
       "      <th>8</th>\n",
       "      <td>9</td>\n",
       "      <td>New Super Mario Bros. Wii</td>\n",
       "      <td>Wii</td>\n",
       "      <td>28.62</td>\n",
       "    </tr>\n",
       "    <tr>\n",
       "      <th>9</th>\n",
       "      <td>10</td>\n",
       "      <td>Duck Hunt</td>\n",
       "      <td>NES</td>\n",
       "      <td>28.31</td>\n",
       "    </tr>\n",
       "    <tr>\n",
       "      <th>10</th>\n",
       "      <td>11</td>\n",
       "      <td>Nintendogs</td>\n",
       "      <td>DS</td>\n",
       "      <td>24.76</td>\n",
       "    </tr>\n",
       "    <tr>\n",
       "      <th>11</th>\n",
       "      <td>12</td>\n",
       "      <td>Mario Kart DS</td>\n",
       "      <td>DS</td>\n",
       "      <td>23.42</td>\n",
       "    </tr>\n",
       "    <tr>\n",
       "      <th>12</th>\n",
       "      <td>13</td>\n",
       "      <td>Pokemon Gold/Pokemon Silver</td>\n",
       "      <td>GB</td>\n",
       "      <td>23.10</td>\n",
       "    </tr>\n",
       "    <tr>\n",
       "      <th>13</th>\n",
       "      <td>14</td>\n",
       "      <td>Wii Fit</td>\n",
       "      <td>Wii</td>\n",
       "      <td>22.72</td>\n",
       "    </tr>\n",
       "    <tr>\n",
       "      <th>14</th>\n",
       "      <td>15</td>\n",
       "      <td>Wii Fit Plus</td>\n",
       "      <td>Wii</td>\n",
       "      <td>22.00</td>\n",
       "    </tr>\n",
       "    <tr>\n",
       "      <th>15</th>\n",
       "      <td>16</td>\n",
       "      <td>Kinect Adventures!</td>\n",
       "      <td>X360</td>\n",
       "      <td>21.82</td>\n",
       "    </tr>\n",
       "    <tr>\n",
       "      <th>16</th>\n",
       "      <td>17</td>\n",
       "      <td>Grand Theft Auto V</td>\n",
       "      <td>PS3</td>\n",
       "      <td>21.40</td>\n",
       "    </tr>\n",
       "    <tr>\n",
       "      <th>17</th>\n",
       "      <td>18</td>\n",
       "      <td>Grand Theft Auto: San Andreas</td>\n",
       "      <td>PS2</td>\n",
       "      <td>20.81</td>\n",
       "    </tr>\n",
       "    <tr>\n",
       "      <th>18</th>\n",
       "      <td>19</td>\n",
       "      <td>Super Mario World</td>\n",
       "      <td>SNES</td>\n",
       "      <td>20.61</td>\n",
       "    </tr>\n",
       "    <tr>\n",
       "      <th>19</th>\n",
       "      <td>20</td>\n",
       "      <td>Brain Age: Train Your Brain in Minutes a Day</td>\n",
       "      <td>DS</td>\n",
       "      <td>20.22</td>\n",
       "    </tr>\n",
       "  </tbody>\n",
       "</table>\n",
       "</div>"
      ],
      "text/plain": [
       "    Rank                                          Name Platform  Global_Sales\n",
       "0      1                                    Wii Sports      Wii         82.74\n",
       "1      2                             Super Mario Bros.      NES         40.24\n",
       "2      3                                Mario Kart Wii      Wii         35.82\n",
       "3      4                             Wii Sports Resort      Wii         33.00\n",
       "4      5                      Pokemon Red/Pokemon Blue       GB         31.37\n",
       "5      6                                        Tetris       GB         30.26\n",
       "6      7                         New Super Mario Bros.       DS         30.01\n",
       "7      8                                      Wii Play      Wii         29.02\n",
       "8      9                     New Super Mario Bros. Wii      Wii         28.62\n",
       "9     10                                     Duck Hunt      NES         28.31\n",
       "10    11                                    Nintendogs       DS         24.76\n",
       "11    12                                 Mario Kart DS       DS         23.42\n",
       "12    13                   Pokemon Gold/Pokemon Silver       GB         23.10\n",
       "13    14                                       Wii Fit      Wii         22.72\n",
       "14    15                                  Wii Fit Plus      Wii         22.00\n",
       "15    16                            Kinect Adventures!     X360         21.82\n",
       "16    17                            Grand Theft Auto V      PS3         21.40\n",
       "17    18                 Grand Theft Auto: San Andreas      PS2         20.81\n",
       "18    19                             Super Mario World     SNES         20.61\n",
       "19    20  Brain Age: Train Your Brain in Minutes a Day       DS         20.22"
      ]
     },
     "execution_count": 24,
     "metadata": {},
     "output_type": "execute_result"
    }
   ],
   "source": [
    "top_20_income_games = df[['Rank', 'Name', 'Platform','Global_Sales']].sort_values('Global_Sales', ascending=False).head(20)\n",
    "top_20_income_games"
   ]
  },
  {
   "cell_type": "markdown",
   "id": "3a6b9a3d-f5de-4a93-845c-ce6760360e79",
   "metadata": {},
   "source": [
    "### 5.For North American video game sales, what’s the median?"
   ]
  },
  {
   "cell_type": "code",
   "execution_count": 26,
   "id": "bbfc302c-640c-4827-8915-2f3703f4b041",
   "metadata": {},
   "outputs": [
    {
     "data": {
      "text/plain": [
       "0.08"
      ]
     },
     "execution_count": 26,
     "metadata": {},
     "output_type": "execute_result"
    }
   ],
   "source": [
    "median_of_American_games = df['NA_Sales'].median()\n",
    "median_of_American_games"
   ]
  },
  {
   "cell_type": "code",
   "execution_count": 30,
   "id": "12487269-7b61-4a38-beaf-c20622aa20b5",
   "metadata": {},
   "outputs": [
    {
     "data": {
      "text/html": [
       "<div>\n",
       "<style scoped>\n",
       "    .dataframe tbody tr th:only-of-type {\n",
       "        vertical-align: middle;\n",
       "    }\n",
       "\n",
       "    .dataframe tbody tr th {\n",
       "        vertical-align: top;\n",
       "    }\n",
       "\n",
       "    .dataframe thead th {\n",
       "        text-align: right;\n",
       "    }\n",
       "</style>\n",
       "<table border=\"1\" class=\"dataframe\">\n",
       "  <thead>\n",
       "    <tr style=\"text-align: right;\">\n",
       "      <th></th>\n",
       "      <th>Rank</th>\n",
       "      <th>Name</th>\n",
       "      <th>Platform</th>\n",
       "      <th>NA_Sales</th>\n",
       "    </tr>\n",
       "  </thead>\n",
       "  <tbody>\n",
       "    <tr>\n",
       "      <th>11492</th>\n",
       "      <td>11494</td>\n",
       "      <td>Ultimate Shooting Collection</td>\n",
       "      <td>Wii</td>\n",
       "      <td>0.08</td>\n",
       "    </tr>\n",
       "    <tr>\n",
       "      <th>11455</th>\n",
       "      <td>11457</td>\n",
       "      <td>The Hidden</td>\n",
       "      <td>3DS</td>\n",
       "      <td>0.08</td>\n",
       "    </tr>\n",
       "    <tr>\n",
       "      <th>11432</th>\n",
       "      <td>11434</td>\n",
       "      <td>DanceDanceRevolution</td>\n",
       "      <td>X360</td>\n",
       "      <td>0.08</td>\n",
       "    </tr>\n",
       "    <tr>\n",
       "      <th>11431</th>\n",
       "      <td>11433</td>\n",
       "      <td>Little League World Series Baseball: Double Play</td>\n",
       "      <td>DS</td>\n",
       "      <td>0.08</td>\n",
       "    </tr>\n",
       "    <tr>\n",
       "      <th>11403</th>\n",
       "      <td>11405</td>\n",
       "      <td>My English Coach: Para Hispanoparlantes</td>\n",
       "      <td>DS</td>\n",
       "      <td>0.08</td>\n",
       "    </tr>\n",
       "    <tr>\n",
       "      <th>11390</th>\n",
       "      <td>11392</td>\n",
       "      <td>Super Robot Taisen OG Saga: Endless Frontier</td>\n",
       "      <td>DS</td>\n",
       "      <td>0.08</td>\n",
       "    </tr>\n",
       "    <tr>\n",
       "      <th>11386</th>\n",
       "      <td>11388</td>\n",
       "      <td>Sushi Academy</td>\n",
       "      <td>DS</td>\n",
       "      <td>0.08</td>\n",
       "    </tr>\n",
       "    <tr>\n",
       "      <th>11376</th>\n",
       "      <td>11378</td>\n",
       "      <td>Face Racers: Photo Finish</td>\n",
       "      <td>3DS</td>\n",
       "      <td>0.08</td>\n",
       "    </tr>\n",
       "    <tr>\n",
       "      <th>11375</th>\n",
       "      <td>11377</td>\n",
       "      <td>Dream Day: Wedding Destinations</td>\n",
       "      <td>DS</td>\n",
       "      <td>0.08</td>\n",
       "    </tr>\n",
       "    <tr>\n",
       "      <th>11371</th>\n",
       "      <td>11373</td>\n",
       "      <td>Death Jr. and the Science Fair of Doom</td>\n",
       "      <td>DS</td>\n",
       "      <td>0.08</td>\n",
       "    </tr>\n",
       "    <tr>\n",
       "      <th>11362</th>\n",
       "      <td>11364</td>\n",
       "      <td>Deadliest Catch: Sea of Chaos</td>\n",
       "      <td>PS3</td>\n",
       "      <td>0.08</td>\n",
       "    </tr>\n",
       "    <tr>\n",
       "      <th>11357</th>\n",
       "      <td>11359</td>\n",
       "      <td>Puchi Puchi Virus</td>\n",
       "      <td>DS</td>\n",
       "      <td>0.08</td>\n",
       "    </tr>\n",
       "    <tr>\n",
       "      <th>11346</th>\n",
       "      <td>11348</td>\n",
       "      <td>America's Next Top Model</td>\n",
       "      <td>Wii</td>\n",
       "      <td>0.08</td>\n",
       "    </tr>\n",
       "    <tr>\n",
       "      <th>11338</th>\n",
       "      <td>11340</td>\n",
       "      <td>Nano Assault</td>\n",
       "      <td>3DS</td>\n",
       "      <td>0.08</td>\n",
       "    </tr>\n",
       "    <tr>\n",
       "      <th>11333</th>\n",
       "      <td>11335</td>\n",
       "      <td>Miami Nights: Singles in the City</td>\n",
       "      <td>DS</td>\n",
       "      <td>0.08</td>\n",
       "    </tr>\n",
       "    <tr>\n",
       "      <th>11323</th>\n",
       "      <td>11325</td>\n",
       "      <td>Charm Girls Club: My Fashion Show</td>\n",
       "      <td>DS</td>\n",
       "      <td>0.08</td>\n",
       "    </tr>\n",
       "    <tr>\n",
       "      <th>11321</th>\n",
       "      <td>11323</td>\n",
       "      <td>Konami Classics Vol. 1</td>\n",
       "      <td>X360</td>\n",
       "      <td>0.08</td>\n",
       "    </tr>\n",
       "    <tr>\n",
       "      <th>11316</th>\n",
       "      <td>11318</td>\n",
       "      <td>Major League Baseball 2K12</td>\n",
       "      <td>DS</td>\n",
       "      <td>0.08</td>\n",
       "    </tr>\n",
       "    <tr>\n",
       "      <th>11308</th>\n",
       "      <td>11310</td>\n",
       "      <td>101-in-1 Sports Megamix</td>\n",
       "      <td>DS</td>\n",
       "      <td>0.08</td>\n",
       "    </tr>\n",
       "    <tr>\n",
       "      <th>11299</th>\n",
       "      <td>11301</td>\n",
       "      <td>The Secret Saturdays: Beasts of the 5th Sun</td>\n",
       "      <td>DS</td>\n",
       "      <td>0.08</td>\n",
       "    </tr>\n",
       "  </tbody>\n",
       "</table>\n",
       "</div>"
      ],
      "text/plain": [
       "        Rank                                              Name Platform  \\\n",
       "11492  11494                      Ultimate Shooting Collection      Wii   \n",
       "11455  11457                                        The Hidden      3DS   \n",
       "11432  11434                              DanceDanceRevolution     X360   \n",
       "11431  11433  Little League World Series Baseball: Double Play       DS   \n",
       "11403  11405           My English Coach: Para Hispanoparlantes       DS   \n",
       "11390  11392      Super Robot Taisen OG Saga: Endless Frontier       DS   \n",
       "11386  11388                                     Sushi Academy       DS   \n",
       "11376  11378                         Face Racers: Photo Finish      3DS   \n",
       "11375  11377                   Dream Day: Wedding Destinations       DS   \n",
       "11371  11373            Death Jr. and the Science Fair of Doom       DS   \n",
       "11362  11364                     Deadliest Catch: Sea of Chaos      PS3   \n",
       "11357  11359                                 Puchi Puchi Virus       DS   \n",
       "11346  11348                          America's Next Top Model      Wii   \n",
       "11338  11340                                      Nano Assault      3DS   \n",
       "11333  11335                 Miami Nights: Singles in the City       DS   \n",
       "11323  11325                 Charm Girls Club: My Fashion Show       DS   \n",
       "11321  11323                            Konami Classics Vol. 1     X360   \n",
       "11316  11318                        Major League Baseball 2K12       DS   \n",
       "11308  11310                           101-in-1 Sports Megamix       DS   \n",
       "11299  11301       The Secret Saturdays: Beasts of the 5th Sun       DS   \n",
       "\n",
       "       NA_Sales  \n",
       "11492      0.08  \n",
       "11455      0.08  \n",
       "11432      0.08  \n",
       "11431      0.08  \n",
       "11403      0.08  \n",
       "11390      0.08  \n",
       "11386      0.08  \n",
       "11376      0.08  \n",
       "11375      0.08  \n",
       "11371      0.08  \n",
       "11362      0.08  \n",
       "11357      0.08  \n",
       "11346      0.08  \n",
       "11338      0.08  \n",
       "11333      0.08  \n",
       "11323      0.08  \n",
       "11321      0.08  \n",
       "11316      0.08  \n",
       "11308      0.08  \n",
       "11299      0.08  "
      ]
     },
     "execution_count": 30,
     "metadata": {},
     "output_type": "execute_result"
    }
   ],
   "source": [
    "secondary_output = df[df['NA_Sales']==median_of_American_games][['Rank', 'Name', 'Platform','NA_Sales']]\n",
    "secondary_output.sort_values('Rank', ascending = False).head(20)"
   ]
  },
  {
   "cell_type": "markdown",
   "id": "acbd5d53-43aa-40ee-bda0-59df6224c3cc",
   "metadata": {},
   "source": [
    "### 6.For the top-selling game of all time, how many standard deviations above/below the mean are its sales for North America?"
   ]
  },
  {
   "cell_type": "code",
   "execution_count": 32,
   "id": "2b665a24-1146-49e1-8b67-b615f708d53c",
   "metadata": {},
   "outputs": [
    {
     "data": {
      "text/plain": [
       "50.47898767479108"
      ]
     },
     "execution_count": 32,
     "metadata": {},
     "output_type": "execute_result"
    }
   ],
   "source": [
    "top = df['NA_Sales'].head(1)\n",
    "mean = df['NA_Sales'].mean()\n",
    "standard = df['NA_Sales'].std()\n",
    "NA_median_Sales = (top-mean)/standard\n",
    "NA_median_Sales[0]"
   ]
  },
  {
   "cell_type": "markdown",
   "id": "21641116-2c37-444a-a899-809e20c2b68a",
   "metadata": {},
   "source": [
    "### 7.The Nintendo Wii seems to have outdone itself with games. How does its average number of sales compare with all of the other platforms?"
   ]
  },
  {
   "cell_type": "code",
   "execution_count": 35,
   "id": "8d83750c-e013-421d-a2aa-addb0d65ffe7",
   "metadata": {},
   "outputs": [
    {
     "data": {
      "text/plain": [
       "Platform\n",
       "False    0.523390\n",
       "True     0.699404\n",
       "Name: Global_Sales, dtype: float64"
      ]
     },
     "execution_count": 35,
     "metadata": {},
     "output_type": "execute_result"
    }
   ],
   "source": [
    "avg = df.groupby(df['Platform']=='Wii')['Global_Sales'].mean()\n",
    "avg"
   ]
  },
  {
   "cell_type": "markdown",
   "id": "025cec25-7c69-4301-acbf-6b7a977949a1",
   "metadata": {},
   "source": [
    "### 8.Come up with 3 more questions that can be answered with this data set."
   ]
  },
  {
   "cell_type": "markdown",
   "id": "bcb83b37-cacb-4d25-bda5-fa22f5197ad8",
   "metadata": {},
   "source": [
    "- - ####  What is the top 5 in Rank in 2010?"
   ]
  },
  {
   "cell_type": "code",
   "execution_count": 52,
   "id": "00633fda-63e0-4788-8128-045d670e1a80",
   "metadata": {},
   "outputs": [
    {
     "data": {
      "text/plain": [
       "15    16\n",
       "26    27\n",
       "31    32\n",
       "40    41\n",
       "54    55\n",
       "Name: Rank, dtype: int64"
      ]
     },
     "execution_count": 52,
     "metadata": {},
     "output_type": "execute_result"
    }
   ],
   "source": [
    "df[df[\"Year\"]==2010].sort_values(\"Rank\").head(5)['Rank']"
   ]
  },
  {
   "cell_type": "markdown",
   "id": "309ca211-93d2-4a53-8a05-d17ca6b5f136",
   "metadata": {},
   "source": [
    "- - #### What is the most selling game in EU?"
   ]
  },
  {
   "cell_type": "code",
   "execution_count": 56,
   "id": "db59d0e8-9e2b-482c-a2a5-153010c0ef44",
   "metadata": {},
   "outputs": [
    {
     "data": {
      "text/plain": [
       "EU_Sales                           29.02\n",
       "Name        ¡Shin Chan Flipa en colores!\n",
       "dtype: object"
      ]
     },
     "execution_count": 56,
     "metadata": {},
     "output_type": "execute_result"
    }
   ],
   "source": [
    "most_selling_EU = df[['EU_Sales', 'Name']].max()\n",
    "most_selling_EU"
   ]
  },
  {
   "cell_type": "markdown",
   "id": "3f75d075-54a0-48fa-8b7c-72f1aa521404",
   "metadata": {},
   "source": [
    "- - #### What is the average sales in Other_Sales?"
   ]
  },
  {
   "cell_type": "code",
   "execution_count": 57,
   "id": "b75bcabc-0b0f-4cd7-a02a-25b016f182e9",
   "metadata": {},
   "outputs": [
    {
     "data": {
      "text/plain": [
       "Other_Sales    0.048063\n",
       "dtype: float64"
      ]
     },
     "execution_count": 57,
     "metadata": {},
     "output_type": "execute_result"
    }
   ],
   "source": [
    "avg_other = df[['Other_Sales']].mean()\n",
    "avg_other"
   ]
  },
  {
   "cell_type": "code",
   "execution_count": 65,
   "id": "fd2c29f4-8fc5-4975-8962-6ff03ef97972",
   "metadata": {},
   "outputs": [
    {
     "name": "stdout",
     "output_type": "stream",
     "text": [
      "Success!!! 😀\n"
     ]
    }
   ],
   "source": [
    "def test():\n",
    "\n",
    "    def assert_equal(actual,expected):\n",
    "        assert actual == expected, f\"Expected {expected} but got {actual}\"\n",
    "\n",
    "    assert_equal(most_common_video_game, 'Electronic Arts')\n",
    "    assert_equal(most_common_plat_form, 'DS')\n",
    "    assert_equal(most_common_genre, 'Action')\n",
    "    assert_equal(top_20_income_games.iloc[0].Name, 'Wii Sports')\n",
    "    assert_equal(top_20_income_games.iloc[19].Name, 'Brain Age: Train Your Brain in Minutes a Day')\n",
    "    assert_equal(NA_median_Sales[0], 50.47898767479108)\n",
    "\n",
    "    print(\"Success!!! \\U0001f600\")\n",
    "\n",
    "test()"
   ]
  },
  {
   "cell_type": "code",
   "execution_count": null,
   "id": "af7cd19f-273d-4507-855a-9b60f2264db9",
   "metadata": {},
   "outputs": [],
   "source": []
  }
 ],
 "metadata": {
  "kernelspec": {
   "display_name": "Python 3",
   "language": "python",
   "name": "python3"
  },
  "language_info": {
   "codemirror_mode": {
    "name": "ipython",
    "version": 3
   },
   "file_extension": ".py",
   "mimetype": "text/x-python",
   "name": "python",
   "nbconvert_exporter": "python",
   "pygments_lexer": "ipython3",
   "version": "3.9.4"
  }
 },
 "nbformat": 4,
 "nbformat_minor": 5
}
